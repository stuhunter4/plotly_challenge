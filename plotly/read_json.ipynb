{
 "cells": [
  {
   "cell_type": "code",
   "execution_count": 1,
   "metadata": {},
   "outputs": [],
   "source": [
    "# dependencies\n",
    "import pandas as pd"
   ]
  },
  {
   "cell_type": "code",
   "execution_count": 2,
   "metadata": {},
   "outputs": [],
   "source": [
    "# read json file into a dataframe\n",
    "samples = pd.read_json(\"samples.json\")"
   ]
  },
  {
   "cell_type": "code",
   "execution_count": 3,
   "metadata": {},
   "outputs": [
    {
     "data": {
      "text/html": [
       "<div>\n",
       "<style scoped>\n",
       "    .dataframe tbody tr th:only-of-type {\n",
       "        vertical-align: middle;\n",
       "    }\n",
       "\n",
       "    .dataframe tbody tr th {\n",
       "        vertical-align: top;\n",
       "    }\n",
       "\n",
       "    .dataframe thead th {\n",
       "        text-align: right;\n",
       "    }\n",
       "</style>\n",
       "<table border=\"1\" class=\"dataframe\">\n",
       "  <thead>\n",
       "    <tr style=\"text-align: right;\">\n",
       "      <th></th>\n",
       "      <th>names</th>\n",
       "      <th>metadata</th>\n",
       "      <th>samples</th>\n",
       "    </tr>\n",
       "  </thead>\n",
       "  <tbody>\n",
       "    <tr>\n",
       "      <th>0</th>\n",
       "      <td>940</td>\n",
       "      <td>{'id': 940, 'ethnicity': 'Caucasian', 'gender'...</td>\n",
       "      <td>{'id': '940', 'otu_ids': [1167, 2859, 482, 226...</td>\n",
       "    </tr>\n",
       "    <tr>\n",
       "      <th>1</th>\n",
       "      <td>941</td>\n",
       "      <td>{'id': 941, 'ethnicity': 'Caucasian/Midleaster...</td>\n",
       "      <td>{'id': '941', 'otu_ids': [2722, 944, 2419, 253...</td>\n",
       "    </tr>\n",
       "    <tr>\n",
       "      <th>2</th>\n",
       "      <td>943</td>\n",
       "      <td>{'id': 943, 'ethnicity': 'Caucasian', 'gender'...</td>\n",
       "      <td>{'id': '943', 'otu_ids': [1795], 'sample_value...</td>\n",
       "    </tr>\n",
       "    <tr>\n",
       "      <th>3</th>\n",
       "      <td>944</td>\n",
       "      <td>{'id': 944, 'ethnicity': 'European', 'gender':...</td>\n",
       "      <td>{'id': '944', 'otu_ids': [922, 3555, 943, 1013...</td>\n",
       "    </tr>\n",
       "    <tr>\n",
       "      <th>4</th>\n",
       "      <td>945</td>\n",
       "      <td>{'id': 945, 'ethnicity': 'Caucasian', 'gender'...</td>\n",
       "      <td>{'id': '945', 'otu_ids': [944, 1795, 922, 2419...</td>\n",
       "    </tr>\n",
       "    <tr>\n",
       "      <th>...</th>\n",
       "      <td>...</td>\n",
       "      <td>...</td>\n",
       "      <td>...</td>\n",
       "    </tr>\n",
       "    <tr>\n",
       "      <th>148</th>\n",
       "      <td>1574</td>\n",
       "      <td>{'id': 1574, 'ethnicity': 'Caucasian', 'gender...</td>\n",
       "      <td>{'id': '1574', 'otu_ids': [482, 909, 2419, 944...</td>\n",
       "    </tr>\n",
       "    <tr>\n",
       "      <th>149</th>\n",
       "      <td>1576</td>\n",
       "      <td>{'id': 1576, 'ethnicity': 'Caucasian', 'gender...</td>\n",
       "      <td>{'id': '1576', 'otu_ids': [1929, 1770, 1926, 1...</td>\n",
       "    </tr>\n",
       "    <tr>\n",
       "      <th>150</th>\n",
       "      <td>1577</td>\n",
       "      <td>{'id': 1577, 'ethnicity': 'Caucasian', 'gender...</td>\n",
       "      <td>{'id': '1577', 'otu_ids': [922, 1795, 151, 318...</td>\n",
       "    </tr>\n",
       "    <tr>\n",
       "      <th>151</th>\n",
       "      <td>1581</td>\n",
       "      <td>{'id': 1581, 'ethnicity': 'Asian(American)', '...</td>\n",
       "      <td>{'id': '1581', 'otu_ids': [1795, 3312, 1399, 3...</td>\n",
       "    </tr>\n",
       "    <tr>\n",
       "      <th>152</th>\n",
       "      <td>1601</td>\n",
       "      <td>{'id': 1601, 'ethnicity': 'Caucasian', 'gender...</td>\n",
       "      <td>{'id': '1601', 'otu_ids': [1929, 3030, 1795, 8...</td>\n",
       "    </tr>\n",
       "  </tbody>\n",
       "</table>\n",
       "<p>153 rows × 3 columns</p>\n",
       "</div>"
      ],
      "text/plain": [
       "     names                                           metadata  \\\n",
       "0      940  {'id': 940, 'ethnicity': 'Caucasian', 'gender'...   \n",
       "1      941  {'id': 941, 'ethnicity': 'Caucasian/Midleaster...   \n",
       "2      943  {'id': 943, 'ethnicity': 'Caucasian', 'gender'...   \n",
       "3      944  {'id': 944, 'ethnicity': 'European', 'gender':...   \n",
       "4      945  {'id': 945, 'ethnicity': 'Caucasian', 'gender'...   \n",
       "..     ...                                                ...   \n",
       "148   1574  {'id': 1574, 'ethnicity': 'Caucasian', 'gender...   \n",
       "149   1576  {'id': 1576, 'ethnicity': 'Caucasian', 'gender...   \n",
       "150   1577  {'id': 1577, 'ethnicity': 'Caucasian', 'gender...   \n",
       "151   1581  {'id': 1581, 'ethnicity': 'Asian(American)', '...   \n",
       "152   1601  {'id': 1601, 'ethnicity': 'Caucasian', 'gender...   \n",
       "\n",
       "                                               samples  \n",
       "0    {'id': '940', 'otu_ids': [1167, 2859, 482, 226...  \n",
       "1    {'id': '941', 'otu_ids': [2722, 944, 2419, 253...  \n",
       "2    {'id': '943', 'otu_ids': [1795], 'sample_value...  \n",
       "3    {'id': '944', 'otu_ids': [922, 3555, 943, 1013...  \n",
       "4    {'id': '945', 'otu_ids': [944, 1795, 922, 2419...  \n",
       "..                                                 ...  \n",
       "148  {'id': '1574', 'otu_ids': [482, 909, 2419, 944...  \n",
       "149  {'id': '1576', 'otu_ids': [1929, 1770, 1926, 1...  \n",
       "150  {'id': '1577', 'otu_ids': [922, 1795, 151, 318...  \n",
       "151  {'id': '1581', 'otu_ids': [1795, 3312, 1399, 3...  \n",
       "152  {'id': '1601', 'otu_ids': [1929, 3030, 1795, 8...  \n",
       "\n",
       "[153 rows x 3 columns]"
      ]
     },
     "execution_count": 3,
     "metadata": {},
     "output_type": "execute_result"
    }
   ],
   "source": [
    "# display dataframe\n",
    "samples"
   ]
  },
  {
   "cell_type": "code",
   "execution_count": 4,
   "metadata": {},
   "outputs": [
    {
     "data": {
      "text/plain": [
       "{'id': 940,\n",
       " 'ethnicity': 'Caucasian',\n",
       " 'gender': 'F',\n",
       " 'age': 24.0,\n",
       " 'location': 'Beaufort/NC',\n",
       " 'bbtype': 'I',\n",
       " 'wfreq': 2.0}"
      ]
     },
     "execution_count": 4,
     "metadata": {},
     "output_type": "execute_result"
    }
   ],
   "source": [
    "# explore the data in the 'metadata' column\n",
    "samples.iloc[0,1]"
   ]
  },
  {
   "cell_type": "code",
   "execution_count": 5,
   "metadata": {},
   "outputs": [
    {
     "name": "stdout",
     "output_type": "stream",
     "text": [
      "{'id': '940', 'otu_ids': [1167, 2859, 482, 2264, 41, 1189, 352, 189, 2318, 1977, 3450, 874, 1959, 2191, 1950, 2077, 2275, 944, 2184, 2244, 2024, 2419, 2811, 165, 2782, 2247, 2011, 2396, 830, 2964, 1795, 2722, 307, 2178, 2908, 1193, 2167, 1208, 2039, 1274, 2739, 2737, 1314, 1962, 2186, 2335, 2936, 907, 833, 2483, 2475, 2491, 2291, 159, 2571, 2350, 2342, 2546, 725, 170, 1505, 513, 259, 1169, 258, 1232, 1497, 1498, 1503, 412, 2235, 1960, 1968, 121, 2065, 340, 2110, 2188, 357, 342], 'sample_values': [163, 126, 113, 78, 71, 51, 50, 47, 40, 40, 37, 36, 30, 28, 25, 23, 22, 19, 19, 14, 13, 13, 13, 12, 12, 11, 11, 11, 10, 10, 10, 8, 7, 7, 7, 6, 5, 5, 5, 4, 4, 4, 3, 3, 3, 3, 3, 3, 3, 2, 2, 2, 2, 2, 2, 2, 2, 2, 2, 2, 2, 2, 2, 2, 2, 2, 2, 2, 2, 2, 2, 2, 2, 2, 2, 2, 2, 2, 2, 2], 'otu_labels': ['Bacteria;Bacteroidetes;Bacteroidia;Bacteroidales;Porphyromonadaceae;Porphyromonas', 'Bacteria;Firmicutes;Clostridia;Clostridiales;IncertaeSedisXI;Peptoniphilus', 'Bacteria', 'Bacteria;Firmicutes;Clostridia;Clostridiales;IncertaeSedisXI', 'Bacteria', 'Bacteria;Bacteroidetes;Bacteroidia;Bacteroidales;Porphyromonadaceae;Porphyromonas', 'Bacteria', 'Bacteria', 'Bacteria;Firmicutes;Clostridia;Clostridiales;IncertaeSedisXI;Anaerococcus', 'Bacteria;Firmicutes;Clostridia;Clostridiales', 'Bacteria;Proteobacteria;Epsilonproteobacteria;Campylobacterales;Campylobacteraceae;Campylobacter', 'Bacteria;Actinobacteria;Actinobacteria;Actinomycetales;Actinomycetaceae;Varibaculum', 'Bacteria;Firmicutes;Clostridia', 'Bacteria;Firmicutes;Clostridia;Clostridiales;IncertaeSedisXI', 'Bacteria;Firmicutes;Clostridia', 'Bacteria;Firmicutes;Clostridia;Clostridiales', 'Bacteria;Firmicutes;Clostridia;Clostridiales;IncertaeSedisXI', 'Bacteria;Actinobacteria;Actinobacteria;Actinomycetales;Corynebacteriaceae;Corynebacterium', 'Bacteria;Firmicutes;Clostridia;Clostridiales;IncertaeSedisXI', 'Bacteria;Firmicutes;Clostridia;Clostridiales;IncertaeSedisXI', 'Bacteria;Firmicutes;Clostridia;Clostridiales', 'Bacteria;Firmicutes;Clostridia;Clostridiales;IncertaeSedisXI;Anaerococcus', 'Bacteria;Firmicutes;Clostridia;Clostridiales;IncertaeSedisXI;Peptoniphilus', 'Bacteria', 'Bacteria;Firmicutes;Clostridia;Clostridiales;IncertaeSedisXI;Peptoniphilus', 'Bacteria;Firmicutes;Clostridia;Clostridiales;IncertaeSedisXI', 'Bacteria;Firmicutes;Clostridia;Clostridiales', 'Bacteria;Firmicutes;Clostridia;Clostridiales;IncertaeSedisXI;Anaerococcus', 'Bacteria;Actinobacteria;Actinobacteria;Actinomycetales', 'Bacteria;Firmicutes;Clostridia;Clostridiales;Veillonellaceae', 'Bacteria;Firmicutes;Bacilli;Bacillales;Staphylococcaceae;Staphylococcus', 'Bacteria;Firmicutes;Clostridia;Clostridiales;IncertaeSedisXI;Finegoldia', 'Bacteria', 'Bacteria;Firmicutes;Clostridia;Clostridiales', 'Bacteria;Firmicutes;Clostridia;Clostridiales;Peptococcaceae;Peptococcus', 'Bacteria;Bacteroidetes;Bacteroidia;Bacteroidales;Porphyromonadaceae;Porphyromonas', 'Bacteria;Firmicutes;Clostridia;Clostridiales', 'Bacteria;Bacteroidetes;Bacteroidia;Bacteroidales;Porphyromonadaceae;Porphyromonas', 'Bacteria;Firmicutes;Clostridia;Clostridiales', 'Bacteria;Bacteroidetes;Bacteroidia;Bacteroidales;Prevotellaceae', 'Bacteria;Firmicutes;Clostridia;Clostridiales;IncertaeSedisXI;Gallicola', 'Bacteria;Firmicutes;Clostridia;Clostridiales;IncertaeSedisXI;Gallicola', 'Bacteria;Bacteroidetes;Bacteroidia;Bacteroidales;Prevotellaceae;Prevotella', 'Bacteria;Firmicutes;Clostridia', 'Bacteria;Firmicutes;Clostridia;Clostridiales;IncertaeSedisXI', 'Bacteria;Firmicutes;Clostridia;Clostridiales;IncertaeSedisXI;Anaerococcus', 'Bacteria;Firmicutes;Clostridia;Clostridiales;Ruminococcaceae', 'Bacteria;Actinobacteria;Actinobacteria;Actinomycetales;Corynebacteriaceae', 'Bacteria;Actinobacteria;Actinobacteria;Actinomycetales;Actinomycetaceae', 'Bacteria;Firmicutes;Clostridia;Clostridiales;IncertaeSedisXI;Anaerococcus', 'Bacteria;Firmicutes;Clostridia;Clostridiales;IncertaeSedisXI;Anaerococcus', 'Bacteria;Firmicutes;Clostridia;Clostridiales;IncertaeSedisXI;Anaerococcus', 'Bacteria;Firmicutes;Clostridia;Clostridiales;IncertaeSedisXI', 'Bacteria', 'Bacteria;Firmicutes;Clostridia;Clostridiales;IncertaeSedisXI;Anaerococcus', 'Bacteria;Firmicutes;Clostridia;Clostridiales;IncertaeSedisXI;Anaerococcus', 'Bacteria;Firmicutes;Clostridia;Clostridiales;IncertaeSedisXI;Anaerococcus', 'Bacteria;Firmicutes;Clostridia;Clostridiales;IncertaeSedisXI;Anaerococcus', 'Bacteria;Actinobacteria;Actinobacteria;Actinomycetales', 'Bacteria', 'Bacteria;Firmicutes', 'Bacteria', 'Bacteria', 'Bacteria;Bacteroidetes;Bacteroidia;Bacteroidales;Porphyromonadaceae;Porphyromonas', 'Bacteria', 'Bacteria;Bacteroidetes;Bacteroidia;Bacteroidales;Porphyromonadaceae;Porphyromonas', 'Bacteria;Firmicutes', 'Bacteria;Firmicutes', 'Bacteria;Firmicutes', 'Bacteria', 'Bacteria;Firmicutes;Clostridia;Clostridiales;IncertaeSedisXI', 'Bacteria;Firmicutes;Clostridia', 'Bacteria;Firmicutes;Clostridia', 'Bacteria', 'Bacteria;Firmicutes;Clostridia;Clostridiales', 'Bacteria', 'Bacteria;Firmicutes;Clostridia;Clostridiales', 'Bacteria;Firmicutes;Clostridia;Clostridiales;IncertaeSedisXI', 'Bacteria', 'Bacteria']}\n"
     ]
    }
   ],
   "source": [
    "# explore the data in the 'samples' column\n",
    "print(samples.iloc[0,2])"
   ]
  },
  {
   "cell_type": "code",
   "execution_count": 6,
   "metadata": {},
   "outputs": [
    {
     "name": "stdout",
     "output_type": "stream",
     "text": [
      "{'id': 940, 'ethnicity': 'Caucasian', 'gender': 'F', 'age': 24.0, 'location': 'Beaufort/NC', 'bbtype': 'I', 'wfreq': 2.0}\n",
      "{'id': 1601, 'ethnicity': 'Caucasian', 'gender': 'F', 'age': 22.0, 'location': 'NC', 'bbtype': 'I', 'wfreq': 2.0}\n"
     ]
    }
   ],
   "source": [
    "# more exploratory operations for the remaining cells, to guide how we call data in the app.js file\n",
    "print(samples.metadata[0])\n",
    "print(samples.metadata[152])"
   ]
  },
  {
   "cell_type": "code",
   "execution_count": 7,
   "metadata": {},
   "outputs": [
    {
     "name": "stdout",
     "output_type": "stream",
     "text": [
      "[1167, 2859, 482, 2264, 41, 1189, 352, 189, 2318, 1977, 3450, 874, 1959, 2191, 1950, 2077, 2275, 944, 2184, 2244, 2024, 2419, 2811, 165, 2782, 2247, 2011, 2396, 830, 2964, 1795, 2722, 307, 2178, 2908, 1193, 2167, 1208, 2039, 1274, 2739, 2737, 1314, 1962, 2186, 2335, 2936, 907, 833, 2483, 2475, 2491, 2291, 159, 2571, 2350, 2342, 2546, 725, 170, 1505, 513, 259, 1169, 258, 1232, 1497, 1498, 1503, 412, 2235, 1960, 1968, 121, 2065, 340, 2110, 2188, 357, 342]\n"
     ]
    }
   ],
   "source": [
    "print(samples.samples[0][\"otu_ids\"])"
   ]
  },
  {
   "cell_type": "code",
   "execution_count": 8,
   "metadata": {},
   "outputs": [
    {
     "name": "stdout",
     "output_type": "stream",
     "text": [
      "80\n",
      "80\n",
      "80\n"
     ]
    }
   ],
   "source": [
    "print(len(samples.samples[0][\"otu_ids\"]))\n",
    "print(len(samples.samples[0][\"sample_values\"]))\n",
    "print(len(samples.samples[0][\"otu_labels\"]))"
   ]
  },
  {
   "cell_type": "code",
   "execution_count": 9,
   "metadata": {},
   "outputs": [
    {
     "name": "stdout",
     "output_type": "stream",
     "text": [
      "For volunteer ID #940, the blood type is I.\n",
      "For volunteer ID #941, the blood type is I.\n",
      "For volunteer ID #943, the blood type is I.\n",
      "For volunteer ID #944, the blood type is I.\n",
      "For volunteer ID #945, the blood type is I.\n",
      "For volunteer ID #946, the blood type is I.\n",
      "For volunteer ID #947, the blood type is I.\n",
      "For volunteer ID #948, the blood type is I.\n",
      "For volunteer ID #949, the blood type is I.\n",
      "For volunteer ID #950, the blood type is I.\n"
     ]
    }
   ],
   "source": [
    "for x in range(10):\n",
    "    ids = samples.metadata[x][\"id\"]\n",
    "    sample = samples.metadata[x][\"bbtype\"]\n",
    "    print(f\"For volunteer ID #{ids}, the blood type is {sample}.\")"
   ]
  },
  {
   "cell_type": "code",
   "execution_count": null,
   "metadata": {},
   "outputs": [],
   "source": []
  }
 ],
 "metadata": {
  "kernelspec": {
   "display_name": "Python 3",
   "language": "python",
   "name": "python3"
  },
  "language_info": {
   "codemirror_mode": {
    "name": "ipython",
    "version": 3
   },
   "file_extension": ".py",
   "mimetype": "text/x-python",
   "name": "python",
   "nbconvert_exporter": "python",
   "pygments_lexer": "ipython3",
   "version": "3.8.3"
  }
 },
 "nbformat": 4,
 "nbformat_minor": 4
}
